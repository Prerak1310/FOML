{
  "nbformat": 4,
  "nbformat_minor": 0,
  "metadata": {
    "colab": {
      "provenance": []
    },
    "kernelspec": {
      "name": "python3",
      "display_name": "Python 3"
    },
    "language_info": {
      "name": "python"
    }
  },
  "cells": [
    {
      "cell_type": "markdown",
      "source": [
        "####<mark>Importing dataset</mark>"
      ],
      "metadata": {
        "id": "Errc3S593VYo"
      }
    },
    {
      "cell_type": "code",
      "execution_count": 35,
      "metadata": {
        "id": "C_qADPgM3Q45"
      },
      "outputs": [],
      "source": [
        "from sklearn.datasets import load_iris\n",
        "dataset = load_iris()"
      ]
    },
    {
      "cell_type": "markdown",
      "source": [
        "####<mark>Creating Dataframe</mark>\n"
      ],
      "metadata": {
        "id": "mlzMm1XD48Cp"
      }
    },
    {
      "cell_type": "code",
      "source": [
        "import pandas as pd\n",
        "df = pd.DataFrame(dataset.data,columns = dataset.feature_names )\n",
        "df['target'] = dataset.target\n",
        "df = df[df.target<2]"
      ],
      "metadata": {
        "id": "Fd9Hhf-W3jxb"
      },
      "execution_count": 36,
      "outputs": []
    },
    {
      "cell_type": "markdown",
      "source": [
        "####<mark>Plotting</mark>"
      ],
      "metadata": {
        "id": "zIWw66bH5BJi"
      }
    },
    {
      "cell_type": "code",
      "source": [
        "from matplotlib import pyplot as plt\n",
        "\n",
        "df0 = df[df.target==0]\n",
        "df1 = df[df.target==1]"
      ],
      "metadata": {
        "id": "R-QIfFNd5H4r"
      },
      "execution_count": 37,
      "outputs": []
    },
    {
      "cell_type": "code",
      "source": [
        "plt.scatter(df0['petal width (cm)'],df0['petal length (cm)'],marker= '+' , color='red')\n",
        "plt.scatter(df1['petal width (cm)'], df1['petal length (cm)'],marker = '.' , color = 'green')"
      ],
      "metadata": {
        "colab": {
          "base_uri": "https://localhost:8080/",
          "height": 447
        },
        "id": "wl5liDD-r0MX",
        "outputId": "5b1e316d-689b-4e50-e69f-77af020231c0"
      },
      "execution_count": 38,
      "outputs": [
        {
          "output_type": "execute_result",
          "data": {
            "text/plain": [
              "<matplotlib.collections.PathCollection at 0x7810bfce4cd0>"
            ]
          },
          "metadata": {},
          "execution_count": 38
        },
        {
          "output_type": "display_data",
          "data": {
            "text/plain": [
              "<Figure size 640x480 with 1 Axes>"
            ],
            "image/png": "[encoded data removed]"
          },
          "metadata": {}
        }
      ]
    },
    {
      "cell_type": "code",
      "source": [
        "plt.scatter(df0['sepal width (cm)'],df0['sepal length (cm)'],marker= '+' , color='red')\n",
        "plt.scatter(df1['sepal width (cm)'],df1['sepal length (cm)'],marker= '.' , color='green')"
      ],
      "metadata": {
        "colab": {
          "base_uri": "https://localhost:8080/",
          "height": 447
        },
        "id": "P2zaSZ8YsUwV",
        "outputId": "571edbf7-bf1b-401c-eb9a-44dd4e5d43aa"
      },
      "execution_count": 39,
      "outputs": [
        {
          "output_type": "execute_result",
          "data": {
            "text/plain": [
              "<matplotlib.collections.PathCollection at 0x7810bfca11e0>"
            ]
          },
          "metadata": {},
          "execution_count": 39
        },
        {
          "output_type": "display_data",
          "data": {
            "text/plain": [
              "<Figure size 640x480 with 1 Axes>"
            ],
            "image/png": "[encoded data removed]"
          },
          "metadata": {}
        }
      ]
    },
    {
      "cell_type": "markdown",
      "source": [
        "####<mark>Spltting into Train test</mark>\n"
      ],
      "metadata": {
        "id": "DXX4i52Asze_"
      }
    },
    {
      "cell_type": "code",
      "source": [
        "from sklearn.model_selection import train_test_split\n",
        "X = df.drop(['target'],axis='columns')\n",
        "y = df.target\n",
        "X_train,X_test,y_train,y_test = train_test_split( X , y , test_size = 0.2 )"
      ],
      "metadata": {
        "id": "keXxcUHvs5Eu"
      },
      "execution_count": 40,
      "outputs": []
    },
    {
      "cell_type": "markdown",
      "source": [
        "####<mark>Predicting and Score</mark>"
      ],
      "metadata": {
        "id": "G2y60H_ut4q1"
      }
    },
    {
      "cell_type": "code",
      "source": [
        "from sklearn.svm import SVC\n",
        "model = SVC()\n",
        "model.fit(X_train, y_train)\n",
        "predicted_values = model.predict(X_test)\n",
        "model.score(X_test,y_test)"
      ],
      "metadata": {
        "colab": {
          "base_uri": "https://localhost:8080/"
        },
        "id": "jAyDrI25t_HV",
        "outputId": "af11754c-f422-447e-fa31-2b09d81eb202"
      },
      "execution_count": 43,
      "outputs": [
        {
          "output_type": "execute_result",
          "data": {
            "text/plain": [
              "1.0"
            ]
          },
          "metadata": {},
          "execution_count": 43
        }
      ]
    },
    {
      "cell_type": "markdown",
      "source": [
        "####<mark>Confusion Matrix</mark>\n"
      ],
      "metadata": {
        "id": "iADjxuWbvAck"
      }
    },
    {
      "cell_type": "code",
      "source": [
        "from sklearn.metrics import confusion_matrix\n",
        "confusion_matrix(y_test, predicted_values)"
      ],
      "metadata": {
        "colab": {
          "base_uri": "https://localhost:8080/"
        },
        "id": "wICw-0z8vEAk",
        "outputId": "0aaa0488-67f5-4345-95f7-691873b19664"
      },
      "execution_count": 44,
      "outputs": [
        {
          "output_type": "execute_result",
          "data": {
            "text/plain": [
              "array([[10,  0],\n",
              "       [ 0, 10]])"
            ]
          },
          "metadata": {},
          "execution_count": 44
        }
      ]
    }
  ]
}